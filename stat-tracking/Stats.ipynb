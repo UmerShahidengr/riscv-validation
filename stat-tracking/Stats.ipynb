{
 "cells": [
  {
   "cell_type": "code",
   "execution_count": null,
   "metadata": {},
   "outputs": [],
   "source": [
    "import pandas as pd\n",
    "import matplotlib.pyplot as plt\n",
    "import numpy as np\n",
    "import csv"
   ]
  },
  {
   "cell_type": "code",
   "execution_count": null,
   "metadata": {},
   "outputs": [],
   "source": [
    "# making dataframe\n",
    "df1 = pd.read_csv(\"perf_microbench.csv\")\n",
    "X = df1[\"Benchmark\"]\n",
    "Y1 = df1[\"IPC\"]\n",
    "Y2 = df1[\"Cycles\"]\n",
    "Y3 = df1[\"Instructions\"]\n",
    "\n",
    "df2 = pd.read_csv(\"gem5runs_microbench.csv\")\n",
    "X_2 = df2[\"Benchmark\"]\n",
    "Y1_2 = df2[\"IPC\"]\n",
    "Y2_2 = df2[\"Cycles\"]\n",
    "Y3_2 = df2[\"Instructions\"]"
   ]
  },
  {
   "cell_type": "code",
   "execution_count": null,
   "metadata": {},
   "outputs": [],
   "source": [
    "with open(\"statsdump.csv\", \"w\") as csvfile:\n",
    "    filewriter = csv.writer(\n",
    "        csvfile, delimiter=\",\", quotechar=\"|\", quoting=csv.QUOTE_MINIMAL\n",
    "    )\n",
    "    filewriter.writerow([\"perf\", \"gem5\", \"% difference\"])\n",
    "    csvfile.close()"
   ]
  },
  {
   "cell_type": "code",
   "execution_count": null,
   "metadata": {},
   "outputs": [],
   "source": [
    "def plot(stat):\n",
    "    i = 0\n",
    "    j = 0\n",
    "\n",
    "    for b, bench in enumerate(X):\n",
    "        plt.bar(i - 0.1, float(df1[stat].iloc[b]), 0.2, color=\"C\" + str(j))\n",
    "        j = int(not j)\n",
    "        plt.bar(i + 0.1, float(df2[stat].iloc[b]), 0.2, color=\"C\" + str(j))\n",
    "        j = int(not j)\n",
    "        i = i + 1\n",
    "        diff = (100 * (df2[stat].iloc[b] - df1[stat].iloc[b])) / (df2[stat].iloc[b])\n",
    "        with open(\"statsdump.csv\", \"a\") as csvfile:\n",
    "            filewriter = csv.writer(\n",
    "                csvfile, delimiter=\",\", quotechar=\"|\", quoting=csv.QUOTE_MINIMAL\n",
    "            )\n",
    "            filewriter.writerow([df1[stat].iloc[b], df2[stat].iloc[b], diff])\n",
    "            csvfile.close()\n",
    "\n",
    "    for i, pfrm in enumerate([\"perf\", \"gem5\"]):\n",
    "        plt.bar(0, 0, color=\"C\" + str(i), label=pfrm)\n",
    "\n",
    "    plt.xticks((np.arange(len(X))), X, rotation=80, ha=\"center\", fontsize=11)\n",
    "\n",
    "    plt.xlabel(\"Benchmarks\")\n",
    "    plt.ylabel(stat)\n",
    "    plt.title(\"Benchmark vs. \" + stat)\n",
    "    plt.legend()\n",
    "    plt.show()"
   ]
  },
  {
   "cell_type": "code",
   "execution_count": null,
   "metadata": {},
   "outputs": [],
   "source": [
    "plot(\"IPC\")"
   ]
  },
  {
   "cell_type": "code",
   "execution_count": null,
   "metadata": {},
   "outputs": [],
   "source": [
    "plot(\"Instructions\")"
   ]
  },
  {
   "cell_type": "code",
   "execution_count": null,
   "metadata": {},
   "outputs": [],
   "source": [
    "plot(\"Cycles\")"
   ]
  }
 ],
 "metadata": {
  "kernelspec": {
   "display_name": "Python 3.10.0 64-bit",
   "language": "python",
   "name": "python3"
  },
  "language_info": {
   "name": "python",
   "version": "3.10.0"
  },
  "orig_nbformat": 4,
  "vscode": {
   "interpreter": {
    "hash": "aee8b7b246df8f9039afb4144a1f6fd8d2ca17a180786b69acc140d282b71a49"
   }
  }
 },
 "nbformat": 4,
 "nbformat_minor": 2
}
