{
 "cells": [
  {
   "cell_type": "code",
   "execution_count": null,
   "metadata": {},
   "outputs": [],
   "source": [
    "# import pandas module \n",
    "import pandas as pd \n",
    "import matplotlib.pyplot as plt\n",
    "    \n",
    "# making dataframe \n",
    "df = pd.read_csv(\"microbench.csv\") \n",
    "\n",
    "# plotting a bar graph\n",
    "plt.bar(df[\"Benchmark\"], df[\"IPC\"])\n",
    "plt.show()"
   ]
  }
 ],
 "metadata": {
  "kernelspec": {
   "display_name": "Python 3.10.0 64-bit",
   "language": "python",
   "name": "python3"
  },
  "language_info": {
   "name": "python",
   "version": "3.10.0"
  },
  "orig_nbformat": 4,
  "vscode": {
   "interpreter": {
    "hash": "aee8b7b246df8f9039afb4144a1f6fd8d2ca17a180786b69acc140d282b71a49"
   }
  }
 },
 "nbformat": 4,
 "nbformat_minor": 2
}
