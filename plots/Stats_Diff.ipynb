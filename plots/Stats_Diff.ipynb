{
 "cells": [
  {
   "cell_type": "code",
   "execution_count": null,
   "metadata": {},
   "outputs": [],
   "source": [
    "import pandas as pd\n",
    "import matplotlib.pyplot as plt\n",
    "import numpy as np\n",
    "import csv"
   ]
  },
  {
   "cell_type": "code",
   "execution_count": null,
   "metadata": {},
   "outputs": [],
   "source": [
    "prefixes = ['CC', 'CF', 'CR', 'CS', 'DP', 'ED', 'EF', 'EI', 'EM', 'MC', 'MD', 'MI', 'ML', 'MM', 'M_', 'ST']\n",
    "data = {}\n",
    "data_sorted = {}"
   ]
  },
  {
   "cell_type": "code",
   "execution_count": null,
   "metadata": {},
   "outputs": [],
   "source": [
    "# making dataframe\n",
    "df1 = pd.read_csv(\"perf_microbench.csv\")\n",
    "X = df1[\"Benchmark\"]\n",
    "Y1 = df1[\"IPC\"]\n",
    "Y2 = df1[\"Cycles\"]\n",
    "Y3 = df1[\"Instructions\"]\n",
    "\n",
    "df2 = pd.read_csv(\"gem5runs_microbench.csv\")\n",
    "X_2 = df2[\"Benchmark\"]\n",
    "Y1_2 = df2[\"IPC\"]\n",
    "Y2_2 = df2[\"Cycles\"]\n",
    "Y3_2 = df2[\"Instructions\"]"
   ]
  },
  {
   "cell_type": "code",
   "execution_count": null,
   "metadata": {},
   "outputs": [],
   "source": [
    "def plot(stat):\n",
    "    i = 0\n",
    "    j = 0\n",
    "\n",
    "    for b, bench in enumerate(X):\n",
    "        diff = (df2[stat].iloc[b] - df1[stat].iloc[b])\n",
    "        data[bench] = diff\n",
    "    \n",
    "    keys = sorted(data, key=data.get)\n",
    "    for r in keys:\n",
    "        data_sorted[r] = [data[r]]\n",
    "\n",
    "    print(data_sorted)\n",
    "\n",
    "    # match a key from dictionary to an array of prefixes\n",
    "    for k, v in data_sorted.items():\n",
    "        for p in prefixes:\n",
    "            if k.startswith(p):\n",
    "                data_sorted[k].append(prefixes.index(p))\n",
    "    \n",
    "    \n",
    "\n",
    "    for b, bench in data_sorted.items():\n",
    "        plt.bar(i, data_sorted[b][0], 0.2, color=\"C\" + str(data_sorted[b][1]))\n",
    "        i = i + 1\n",
    "    \n",
    "    for i, pfrm in enumerate(prefixes):\n",
    "        plt.bar(0, 0, color=\"C\" + str(i), label=pfrm)\n",
    "    \n",
    "    plt.xticks((np.arange(len(data_sorted))), data_sorted, rotation=80, ha=\"center\", fontsize=11)\n",
    "\n",
    "    plt.xlabel(\"Benchmarks\")\n",
    "    plt.ylabel(stat)\n",
    "    plt.title(\"Benchmark vs. \" + stat)\n",
    "    plt.legend(bbox_to_anchor=(1.02, 1), loc='upper left')\n",
    "    plt.show()"
   ]
  },
  {
   "cell_type": "code",
   "execution_count": null,
   "metadata": {},
   "outputs": [],
   "source": [
    "plot(\"Cycles\")"
   ]
  },
  {
   "cell_type": "code",
   "execution_count": null,
   "metadata": {},
   "outputs": [],
   "source": [
    "plot(\"Instructions\")"
   ]
  },
  {
   "cell_type": "code",
   "execution_count": null,
   "metadata": {},
   "outputs": [],
   "source": [
    "plot(\"IPC\")"
   ]
  }
 ],
 "metadata": {
  "kernelspec": {
   "display_name": "Python 3.10.0 64-bit",
   "language": "python",
   "name": "python3"
  },
  "language_info": {
   "name": "python",
   "version": "3.10.0"
  },
  "orig_nbformat": 4,
  "vscode": {
   "interpreter": {
    "hash": "aee8b7b246df8f9039afb4144a1f6fd8d2ca17a180786b69acc140d282b71a49"
   }
  }
 },
 "nbformat": 4,
 "nbformat_minor": 2
}
