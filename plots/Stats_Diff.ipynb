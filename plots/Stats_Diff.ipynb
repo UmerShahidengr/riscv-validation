{
 "cells": [
  {
   "cell_type": "code",
   "execution_count": null,
   "metadata": {},
   "outputs": [],
   "source": [
    "import pandas as pd\n",
    "import matplotlib.pyplot as plt\n",
    "import numpy as np\n",
    "import csv"
   ]
  },
  {
   "cell_type": "code",
   "execution_count": null,
   "metadata": {},
   "outputs": [],
   "source": [
    "prefixes = ['Control', 'Data Parallel', 'Execution', 'Memory', 'Store Intense']"
   ]
  },
  {
   "cell_type": "code",
   "execution_count": null,
   "metadata": {},
   "outputs": [],
   "source": [
    "# making dataframe\n",
    "df1 = pd.read_csv(\"perf_microbench.csv\")\n",
    "X = df1[\"Benchmark\"]\n",
    "Y1 = df1[\"IPC\"]\n",
    "Y2 = df1[\"Cycles\"]\n",
    "Y3 = df1[\"Instructions\"]\n",
    "Y4 = df1[\"Seconds\"]\n",
    "Y5 = df1[\"IPS\"]\n",
    "\n",
    "df2 = pd.read_csv(\"gem5runs_microbench.csv\")\n",
    "X_2 = df2[\"Benchmark\"]\n",
    "Y1_2 = df2[\"IPC\"]\n",
    "Y2_2 = df2[\"Cycles\"]\n",
    "Y3_2 = df2[\"Instructions\"]\n",
    "Y4_2 = df2[\"Seconds\"]\n",
    "Y5_2 = df2[\"IPS\"]"
   ]
  },
  {
   "cell_type": "code",
   "execution_count": null,
   "metadata": {},
   "outputs": [],
   "source": [
    "def absoluteplot(stat):\n",
    "    plt.rcParams[\"figure.figsize\"]=25,10\n",
    "    data = {}\n",
    "    data_sorted = {}\n",
    "    i = 0\n",
    "    j = 0\n",
    "    label = stat\n",
    "\n",
    "    # if stat == \"Cycles\" or stat == \"Instructions\":\n",
    "    #     fig, (ax1, ax2, ax3) = plt.subplots(3, 1, sharex=True)\n",
    "    #     fig.subplots_adjust(hspace=0.05)  # adjust space between axes\n",
    "\n",
    "    for b, bench in enumerate(X):\n",
    "        if stat == 'Cycles' or stat == 'Instructions':\n",
    "            diff = ((df2[stat].iloc[b] - df1[stat].iloc[b]))/1000000\n",
    "            label = 'Million ' + stat\n",
    "        elif stat == 'IPS':\n",
    "            diff = ((df2[stat].iloc[b] - df1[stat].iloc[b]))/1000000000\n",
    "            label = 'B' + stat\n",
    "        else:\n",
    "            diff = (df2[stat].iloc[b] - df1[stat].iloc[b])\n",
    "        data[bench] = diff\n",
    "    \n",
    "    keys = sorted(data, key=data.get)\n",
    "    for r in keys:\n",
    "        data_sorted[r] = [data[r]]\n",
    "\n",
    "    # match a key from dictionary to an array of prefixes\n",
    "    for k, v in data_sorted.items():\n",
    "        for p in prefixes:\n",
    "            if k.startswith(p[0]):\n",
    "                data_sorted[k].append(prefixes.index(p))\n",
    "    \n",
    "    \n",
    "\n",
    "    for b, bench in data_sorted.items():\n",
    "        \n",
    "        if data_sorted[b][0] > 10 or data_sorted[b][0] < -10:\n",
    "            plt.annotate(str(round(data_sorted[b][0], 1)), (i,j), fontsize = 10)\n",
    "            # annotate the value to the graph\n",
    "        elif stat == \"Seconds\":\n",
    "            if data_sorted[b][0] < -0.2:\n",
    "                plt.annotate(str(round(data_sorted[b][0], 1)), (i,j), fontsize = 10)\n",
    "                # annotate the value to the graph\n",
    "            else:\n",
    "                plt.bar(i, data_sorted[b][0], color=\"C\" + str(data_sorted[b][1]))\n",
    "        else:\n",
    "            plt.bar(i, data_sorted[b][0], color=\"C\" + str(data_sorted[b][1]))\n",
    "        \n",
    "        with open(\"microbench_seconds_diff.csv\", \"a\") as csvfile:\n",
    "            filewriter = csv.writer(\n",
    "                csvfile, delimiter=\",\", quotechar=\"|\", quoting=csv.QUOTE_MINIMAL\n",
    "            )\n",
    "            filewriter.writerow([b, data_sorted[b][0]])\n",
    "            csvfile.close()\n",
    "        i = i + 1\n",
    "\n",
    "    \n",
    "    for i, pfrm in enumerate(prefixes):\n",
    "        plt.bar(0, 0, color=\"C\" + str(i), label=pfrm)\n",
    "    \n",
    "    plt.xticks((np.arange(len(data_sorted))), data_sorted, rotation=80, ha=\"center\", fontsize=14)\n",
    "\n",
    "    plt.xlabel(\"Benchmarks\")\n",
    "    plt.ylabel(label)\n",
    "    plt.axhline(y=0)\n",
    "    plt.title(\"Benchmark vs. \" + label)\n",
    "    plt.legend(bbox_to_anchor=(1.02, 1), loc='upper left')\n",
    "    plt.show()"
   ]
  },
  {
   "cell_type": "code",
   "execution_count": null,
   "metadata": {},
   "outputs": [],
   "source": [
    "def percentageplot(stat):\n",
    "    #plt.rcParams[\"figure.figsize\"]=20,10\n",
    "    data = {}\n",
    "    data_sorted = {}\n",
    "    i = 0\n",
    "    j = 0\n",
    "\n",
    "    for b, bench in enumerate(X):\n",
    "        diff = (df2[stat].iloc[b] - df1[stat].iloc[b])/df1[stat].iloc[b]\n",
    "        data[bench] = diff\n",
    "    \n",
    "    keys = sorted(data, key=data.get)\n",
    "    for r in keys:\n",
    "        data_sorted[r] = [data[r]]\n",
    "\n",
    "    # match a key from dictionary to an array of prefixes\n",
    "    for k, v in data_sorted.items():\n",
    "        for p in prefixes:\n",
    "            if k.startswith(p[0]):\n",
    "                data_sorted[k].append(prefixes.index(p))\n",
    "    \n",
    "    \n",
    "\n",
    "    for b, bench in data_sorted.items():\n",
    "        plt.bar(i, data_sorted[b][0], color=\"C\" + str(data_sorted[b][1]))\n",
    "        with open(\"microbench_seconds_diff.csv\", \"a\") as csvfile:\n",
    "            filewriter = csv.writer(\n",
    "                csvfile, delimiter=\",\", quotechar=\"|\", quoting=csv.QUOTE_MINIMAL\n",
    "            )\n",
    "            filewriter.writerow([b, data_sorted[b][0]])\n",
    "            csvfile.close()\n",
    "        i = i + 1\n",
    "    \n",
    "    for i, pfrm in enumerate(prefixes):\n",
    "        plt.bar(0, 0, color=\"C\" + str(i), label=pfrm)\n",
    "    \n",
    "    plt.xticks((np.arange(len(data_sorted))), data_sorted, rotation=80, ha=\"center\", fontsize=14)\n",
    "\n",
    "    plt.xlabel(\"Benchmarks\")\n",
    "    plt.ylabel(stat)\n",
    "    plt.axhline(y=0)\n",
    "    plt.title(\"Benchmark vs. \" + stat)\n",
    "    plt.legend(bbox_to_anchor=(1.02, 1), loc='upper left')\n",
    "    plt.show()"
   ]
  },
  {
   "cell_type": "code",
   "execution_count": null,
   "metadata": {},
   "outputs": [],
   "source": [
    "absoluteplot(\"Cycles\")"
   ]
  },
  {
   "cell_type": "code",
   "execution_count": null,
   "metadata": {},
   "outputs": [],
   "source": [
    "absoluteplot(\"Instructions\")"
   ]
  },
  {
   "cell_type": "code",
   "execution_count": null,
   "metadata": {},
   "outputs": [],
   "source": [
    "absoluteplot(\"Seconds\")"
   ]
  },
  {
   "cell_type": "code",
   "execution_count": null,
   "metadata": {},
   "outputs": [],
   "source": [
    "absoluteplot(\"IPC\")"
   ]
  },
  {
   "cell_type": "code",
   "execution_count": null,
   "metadata": {},
   "outputs": [],
   "source": [
    "absoluteplot(\"IPS\")"
   ]
  },
  {
   "cell_type": "code",
   "execution_count": null,
   "metadata": {},
   "outputs": [],
   "source": [
    "percentageplot(\"Cycles\")"
   ]
  },
  {
   "cell_type": "code",
   "execution_count": null,
   "metadata": {},
   "outputs": [],
   "source": [
    "percentageplot(\"Instructions\")"
   ]
  },
  {
   "cell_type": "code",
   "execution_count": null,
   "metadata": {},
   "outputs": [],
   "source": [
    "percentageplot(\"Seconds\")"
   ]
  },
  {
   "cell_type": "code",
   "execution_count": null,
   "metadata": {},
   "outputs": [],
   "source": [
    "percentageplot(\"IPC\")"
   ]
  },
  {
   "cell_type": "code",
   "execution_count": null,
   "metadata": {},
   "outputs": [],
   "source": [
    "percentageplot(\"IPS\")"
   ]
  }
 ],
 "metadata": {
  "kernelspec": {
   "display_name": "Python 3 (ipykernel)",
   "language": "python",
   "name": "python3"
  },
  "language_info": {
   "codemirror_mode": {
    "name": "ipython",
    "version": 3
   },
   "file_extension": ".py",
   "mimetype": "text/x-python",
   "name": "python",
   "nbconvert_exporter": "python",
   "pygments_lexer": "ipython3",
   "version": "3.9.12"
  },
  "vscode": {
   "interpreter": {
    "hash": "aee8b7b246df8f9039afb4144a1f6fd8d2ca17a180786b69acc140d282b71a49"
   }
  }
 },
 "nbformat": 4,
 "nbformat_minor": 4
}
